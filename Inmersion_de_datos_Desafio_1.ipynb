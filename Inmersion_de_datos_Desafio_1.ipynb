{
  "nbformat": 4,
  "nbformat_minor": 0,
  "metadata": {
    "colab": {
      "provenance": [],
      "authorship_tag": "ABX9TyNtxBVUwiOM3JVhvMaKK6hE",
      "include_colab_link": true
    },
    "kernelspec": {
      "name": "python3",
      "display_name": "Python 3"
    },
    "language_info": {
      "name": "python"
    }
  },
  "cells": [
    {
      "cell_type": "markdown",
      "metadata": {
        "id": "view-in-github",
        "colab_type": "text"
      },
      "source": [
        "<a href=\"https://colab.research.google.com/github/RoAlro/InmersionDeDatos1-ALURA/blob/main/Inmersion_de_datos_Desafio_1.ipynb\" target=\"_parent\"><img src=\"https://colab.research.google.com/assets/colab-badge.svg\" alt=\"Open In Colab\"/></a>"
      ]
    },
    {
      "cell_type": "markdown",
      "source": [
        "**Desafío**\n",
        "\n",
        "\n",
        "1. Promedio de área de todos los inmuebles en los barrios en el dataset. Realizar un gráfico con el promedio de las áreas de los inmuebles de los barrios (El top 10).\n",
        "\n",
        "Promedio de área de todos los inmuebles del dataset, por un lado (mostrar los 10 barrios con mayor promedio de área) ¿Por qué será que Modelia presenta esa diferencia tan grande de área con respecto a los demás barrios?"
      ],
      "metadata": {
        "id": "6ynPEpSnOofa"
      }
    },
    {
      "cell_type": "code",
      "execution_count": 1,
      "metadata": {
        "colab": {
          "base_uri": "https://localhost:8080/"
        },
        "id": "J44nSxCtN5RO",
        "outputId": "1c3b03e7-7bc9-4c1c-9b82-2f07f6690c20"
      },
      "outputs": [
        {
          "output_type": "stream",
          "name": "stdout",
          "text": [
            "Mounted at /content/drive\n"
          ]
        }
      ],
      "source": [
        "from google.colab import drive\n",
        "\n",
        "drive.mount('/content/drive')"
      ]
    },
    {
      "cell_type": "code",
      "source": [
        "import pandas as pd\n",
        "\n",
        "inmuebles = pd.read_csv('/content/drive/MyDrive/DATASCIENCE/Inmersión de datos/inmuebles_bogota.csv') \n",
        "inmuebles.head()"
      ],
      "metadata": {
        "colab": {
          "base_uri": "https://localhost:8080/",
          "height": 206
        },
        "id": "3bXK-_JuOTki",
        "outputId": "f85dbeec-4eec-4144-a702-93800692ab63"
      },
      "execution_count": 2,
      "outputs": [
        {
          "output_type": "execute_result",
          "data": {
            "text/plain": [
              "          Tipo                                 Descripcion  Habitaciones  \\\n",
              "0  Apartamento  Apartamento en venta en Zona Noroccidental             3   \n",
              "1         Casa                   Casa en venta en Castilla             4   \n",
              "2  Apartamento     Apartamento en venta en Chico Reservado             3   \n",
              "3  Apartamento             Apartamento en venta en Usaquén             3   \n",
              "4  Apartamento         Apartamento en venta en Bella Suiza             2   \n",
              "\n",
              "   Baños  Área              Barrio                                    UPZ  \\\n",
              "0      2    70  Zona Noroccidental     CHAPINERO: Pardo Rubio + Chapinero   \n",
              "1      3   170            Castilla            KENNEDY: Castilla + Bavaria   \n",
              "2      3   144     Chico Reservado     CHAPINERO: Chicó Lago + El Refugio   \n",
              "3      2   154             Usaquén                                Usaquén   \n",
              "4      3   128         Bella Suiza  USAQUÉN: Country Club + Santa Bárbara   \n",
              "\n",
              "             Valor  \n",
              "0    $ 360.000.000  \n",
              "1    $ 670.000.000  \n",
              "2  $ 1.120.000.000  \n",
              "3    $ 890.000.000  \n",
              "4    $ 970.000.000  "
            ],
            "text/html": [
              "\n",
              "  <div id=\"df-35dd0657-cfd7-4039-b100-39581953ccde\">\n",
              "    <div class=\"colab-df-container\">\n",
              "      <div>\n",
              "<style scoped>\n",
              "    .dataframe tbody tr th:only-of-type {\n",
              "        vertical-align: middle;\n",
              "    }\n",
              "\n",
              "    .dataframe tbody tr th {\n",
              "        vertical-align: top;\n",
              "    }\n",
              "\n",
              "    .dataframe thead th {\n",
              "        text-align: right;\n",
              "    }\n",
              "</style>\n",
              "<table border=\"1\" class=\"dataframe\">\n",
              "  <thead>\n",
              "    <tr style=\"text-align: right;\">\n",
              "      <th></th>\n",
              "      <th>Tipo</th>\n",
              "      <th>Descripcion</th>\n",
              "      <th>Habitaciones</th>\n",
              "      <th>Baños</th>\n",
              "      <th>Área</th>\n",
              "      <th>Barrio</th>\n",
              "      <th>UPZ</th>\n",
              "      <th>Valor</th>\n",
              "    </tr>\n",
              "  </thead>\n",
              "  <tbody>\n",
              "    <tr>\n",
              "      <th>0</th>\n",
              "      <td>Apartamento</td>\n",
              "      <td>Apartamento en venta en Zona Noroccidental</td>\n",
              "      <td>3</td>\n",
              "      <td>2</td>\n",
              "      <td>70</td>\n",
              "      <td>Zona Noroccidental</td>\n",
              "      <td>CHAPINERO: Pardo Rubio + Chapinero</td>\n",
              "      <td>$ 360.000.000</td>\n",
              "    </tr>\n",
              "    <tr>\n",
              "      <th>1</th>\n",
              "      <td>Casa</td>\n",
              "      <td>Casa en venta en Castilla</td>\n",
              "      <td>4</td>\n",
              "      <td>3</td>\n",
              "      <td>170</td>\n",
              "      <td>Castilla</td>\n",
              "      <td>KENNEDY: Castilla + Bavaria</td>\n",
              "      <td>$ 670.000.000</td>\n",
              "    </tr>\n",
              "    <tr>\n",
              "      <th>2</th>\n",
              "      <td>Apartamento</td>\n",
              "      <td>Apartamento en venta en Chico Reservado</td>\n",
              "      <td>3</td>\n",
              "      <td>3</td>\n",
              "      <td>144</td>\n",
              "      <td>Chico Reservado</td>\n",
              "      <td>CHAPINERO: Chicó Lago + El Refugio</td>\n",
              "      <td>$ 1.120.000.000</td>\n",
              "    </tr>\n",
              "    <tr>\n",
              "      <th>3</th>\n",
              "      <td>Apartamento</td>\n",
              "      <td>Apartamento en venta en Usaquén</td>\n",
              "      <td>3</td>\n",
              "      <td>2</td>\n",
              "      <td>154</td>\n",
              "      <td>Usaquén</td>\n",
              "      <td>Usaquén</td>\n",
              "      <td>$ 890.000.000</td>\n",
              "    </tr>\n",
              "    <tr>\n",
              "      <th>4</th>\n",
              "      <td>Apartamento</td>\n",
              "      <td>Apartamento en venta en Bella Suiza</td>\n",
              "      <td>2</td>\n",
              "      <td>3</td>\n",
              "      <td>128</td>\n",
              "      <td>Bella Suiza</td>\n",
              "      <td>USAQUÉN: Country Club + Santa Bárbara</td>\n",
              "      <td>$ 970.000.000</td>\n",
              "    </tr>\n",
              "  </tbody>\n",
              "</table>\n",
              "</div>\n",
              "      <button class=\"colab-df-convert\" onclick=\"convertToInteractive('df-35dd0657-cfd7-4039-b100-39581953ccde')\"\n",
              "              title=\"Convert this dataframe to an interactive table.\"\n",
              "              style=\"display:none;\">\n",
              "        \n",
              "  <svg xmlns=\"http://www.w3.org/2000/svg\" height=\"24px\"viewBox=\"0 0 24 24\"\n",
              "       width=\"24px\">\n",
              "    <path d=\"M0 0h24v24H0V0z\" fill=\"none\"/>\n",
              "    <path d=\"M18.56 5.44l.94 2.06.94-2.06 2.06-.94-2.06-.94-.94-2.06-.94 2.06-2.06.94zm-11 1L8.5 8.5l.94-2.06 2.06-.94-2.06-.94L8.5 2.5l-.94 2.06-2.06.94zm10 10l.94 2.06.94-2.06 2.06-.94-2.06-.94-.94-2.06-.94 2.06-2.06.94z\"/><path d=\"M17.41 7.96l-1.37-1.37c-.4-.4-.92-.59-1.43-.59-.52 0-1.04.2-1.43.59L10.3 9.45l-7.72 7.72c-.78.78-.78 2.05 0 2.83L4 21.41c.39.39.9.59 1.41.59.51 0 1.02-.2 1.41-.59l7.78-7.78 2.81-2.81c.8-.78.8-2.07 0-2.86zM5.41 20L4 18.59l7.72-7.72 1.47 1.35L5.41 20z\"/>\n",
              "  </svg>\n",
              "      </button>\n",
              "      \n",
              "  <style>\n",
              "    .colab-df-container {\n",
              "      display:flex;\n",
              "      flex-wrap:wrap;\n",
              "      gap: 12px;\n",
              "    }\n",
              "\n",
              "    .colab-df-convert {\n",
              "      background-color: #E8F0FE;\n",
              "      border: none;\n",
              "      border-radius: 50%;\n",
              "      cursor: pointer;\n",
              "      display: none;\n",
              "      fill: #1967D2;\n",
              "      height: 32px;\n",
              "      padding: 0 0 0 0;\n",
              "      width: 32px;\n",
              "    }\n",
              "\n",
              "    .colab-df-convert:hover {\n",
              "      background-color: #E2EBFA;\n",
              "      box-shadow: 0px 1px 2px rgba(60, 64, 67, 0.3), 0px 1px 3px 1px rgba(60, 64, 67, 0.15);\n",
              "      fill: #174EA6;\n",
              "    }\n",
              "\n",
              "    [theme=dark] .colab-df-convert {\n",
              "      background-color: #3B4455;\n",
              "      fill: #D2E3FC;\n",
              "    }\n",
              "\n",
              "    [theme=dark] .colab-df-convert:hover {\n",
              "      background-color: #434B5C;\n",
              "      box-shadow: 0px 1px 3px 1px rgba(0, 0, 0, 0.15);\n",
              "      filter: drop-shadow(0px 1px 2px rgba(0, 0, 0, 0.3));\n",
              "      fill: #FFFFFF;\n",
              "    }\n",
              "  </style>\n",
              "\n",
              "      <script>\n",
              "        const buttonEl =\n",
              "          document.querySelector('#df-35dd0657-cfd7-4039-b100-39581953ccde button.colab-df-convert');\n",
              "        buttonEl.style.display =\n",
              "          google.colab.kernel.accessAllowed ? 'block' : 'none';\n",
              "\n",
              "        async function convertToInteractive(key) {\n",
              "          const element = document.querySelector('#df-35dd0657-cfd7-4039-b100-39581953ccde');\n",
              "          const dataTable =\n",
              "            await google.colab.kernel.invokeFunction('convertToInteractive',\n",
              "                                                     [key], {});\n",
              "          if (!dataTable) return;\n",
              "\n",
              "          const docLinkHtml = 'Like what you see? Visit the ' +\n",
              "            '<a target=\"_blank\" href=https://colab.research.google.com/notebooks/data_table.ipynb>data table notebook</a>'\n",
              "            + ' to learn more about interactive tables.';\n",
              "          element.innerHTML = '';\n",
              "          dataTable['output_type'] = 'display_data';\n",
              "          await google.colab.output.renderOutput(dataTable, element);\n",
              "          const docLink = document.createElement('div');\n",
              "          docLink.innerHTML = docLinkHtml;\n",
              "          element.appendChild(docLink);\n",
              "        }\n",
              "      </script>\n",
              "    </div>\n",
              "  </div>\n",
              "  "
            ]
          },
          "metadata": {},
          "execution_count": 2
        }
      ]
    },
    {
      "cell_type": "code",
      "source": [
        "inmuebles.shape"
      ],
      "metadata": {
        "colab": {
          "base_uri": "https://localhost:8080/"
        },
        "id": "pMZzp4QCOWnq",
        "outputId": "6ec41629-9b77-4f75-eb5e-8735a5b43018"
      },
      "execution_count": 120,
      "outputs": [
        {
          "output_type": "execute_result",
          "data": {
            "text/plain": [
              "(9520, 8)"
            ]
          },
          "metadata": {},
          "execution_count": 120
        }
      ]
    },
    {
      "cell_type": "code",
      "source": [
        "inmuebles.columns"
      ],
      "metadata": {
        "colab": {
          "base_uri": "https://localhost:8080/"
        },
        "id": "-fuWWGBROXC8",
        "outputId": "ff2df426-cc27-4506-c8c5-3e020b11add8"
      },
      "execution_count": 121,
      "outputs": [
        {
          "output_type": "execute_result",
          "data": {
            "text/plain": [
              "Index(['Tipo', 'Descripcion', 'Habitaciones', 'Banos', 'Area', 'Barrio', 'UPZ',\n",
              "       'Valor'],\n",
              "      dtype='object')"
            ]
          },
          "metadata": {},
          "execution_count": 121
        }
      ]
    },
    {
      "cell_type": "code",
      "source": [
        "#Renombrabdo Columnas---\n",
        "#-------------------------------------------------------\n",
        "columnas = {'Baños':'Banos','Área':'Area'}\n",
        "inmuebles = inmuebles.rename(columns=columnas)\n",
        "inmuebles.sort_values('Area',ascending=False).head(10)\n"
      ],
      "metadata": {
        "colab": {
          "base_uri": "https://localhost:8080/",
          "height": 363
        },
        "id": "1ch9GxeUOZFN",
        "outputId": "f7ac65a1-d04f-43b0-e64a-72eba3d8f7ab"
      },
      "execution_count": 122,
      "outputs": [
        {
          "output_type": "execute_result",
          "data": {
            "text/plain": [
              "             Tipo                                 Descripcion  Habitaciones  \\\n",
              "7073         Casa                    Casa en venta en Modelia             4   \n",
              "6388  Apartamento           Apartamento en venta en Chapinero             3   \n",
              "3807  Apartamento           Apartamento en venta en Chapinero             3   \n",
              "4697        Finca            Finca en venta en Barrios Unidos             6   \n",
              "2279        Finca            Finca en venta en Barrios Unidos             6   \n",
              "9026         Casa                    Casa en venta en Usaquén             3   \n",
              "1860  Apartamento      Apartamento en venta en Barrios Unidos             3   \n",
              "1037  Apartamento  Apartamento en venta en Zona Noroccidental             3   \n",
              "7891  Apartamento            Apartamento en venta en Engativa             2   \n",
              "7452  Apartamento            Apartamento en venta en Engativa             2   \n",
              "\n",
              "      Banos    Area              Barrio                                 UPZ  \\\n",
              "7073      3  166243             Modelia                            Fontibón   \n",
              "6388      5   15920           Chapinero  CHAPINERO: Pardo Rubio + Chapinero   \n",
              "3807      5   15920           Chapinero  CHAPINERO: Pardo Rubio + Chapinero   \n",
              "4697      6    8884      Barrios Unidos                           Los Andes   \n",
              "2279      6    8884      Barrios Unidos                           Los Andes   \n",
              "9026      4    6364             Usaquén                             Usaquén   \n",
              "1860      2    6267      Barrios Unidos                           Los Andes   \n",
              "1037      2    5458  Zona Noroccidental  CHAPINERO: Pardo Rubio + Chapinero   \n",
              "7891      1    4600            Engativa                            Engativá   \n",
              "7452      1    4600            Engativa                            Engativá   \n",
              "\n",
              "             Valor  \n",
              "7073  8.500000e+08  \n",
              "6388  1.250000e+09  \n",
              "3807  1.250000e+09  \n",
              "4697  1.000000e+09  \n",
              "2279  1.000000e+09  \n",
              "9026  3.000000e+09  \n",
              "1860  1.430000e+08  \n",
              "1037  1.780000e+08  \n",
              "7891  1.550000e+08  \n",
              "7452  1.550000e+08  "
            ],
            "text/html": [
              "\n",
              "  <div id=\"df-08d507ce-7382-43dd-9867-611e2734fe00\">\n",
              "    <div class=\"colab-df-container\">\n",
              "      <div>\n",
              "<style scoped>\n",
              "    .dataframe tbody tr th:only-of-type {\n",
              "        vertical-align: middle;\n",
              "    }\n",
              "\n",
              "    .dataframe tbody tr th {\n",
              "        vertical-align: top;\n",
              "    }\n",
              "\n",
              "    .dataframe thead th {\n",
              "        text-align: right;\n",
              "    }\n",
              "</style>\n",
              "<table border=\"1\" class=\"dataframe\">\n",
              "  <thead>\n",
              "    <tr style=\"text-align: right;\">\n",
              "      <th></th>\n",
              "      <th>Tipo</th>\n",
              "      <th>Descripcion</th>\n",
              "      <th>Habitaciones</th>\n",
              "      <th>Banos</th>\n",
              "      <th>Area</th>\n",
              "      <th>Barrio</th>\n",
              "      <th>UPZ</th>\n",
              "      <th>Valor</th>\n",
              "    </tr>\n",
              "  </thead>\n",
              "  <tbody>\n",
              "    <tr>\n",
              "      <th>7073</th>\n",
              "      <td>Casa</td>\n",
              "      <td>Casa en venta en Modelia</td>\n",
              "      <td>4</td>\n",
              "      <td>3</td>\n",
              "      <td>166243</td>\n",
              "      <td>Modelia</td>\n",
              "      <td>Fontibón</td>\n",
              "      <td>8.500000e+08</td>\n",
              "    </tr>\n",
              "    <tr>\n",
              "      <th>6388</th>\n",
              "      <td>Apartamento</td>\n",
              "      <td>Apartamento en venta en Chapinero</td>\n",
              "      <td>3</td>\n",
              "      <td>5</td>\n",
              "      <td>15920</td>\n",
              "      <td>Chapinero</td>\n",
              "      <td>CHAPINERO: Pardo Rubio + Chapinero</td>\n",
              "      <td>1.250000e+09</td>\n",
              "    </tr>\n",
              "    <tr>\n",
              "      <th>3807</th>\n",
              "      <td>Apartamento</td>\n",
              "      <td>Apartamento en venta en Chapinero</td>\n",
              "      <td>3</td>\n",
              "      <td>5</td>\n",
              "      <td>15920</td>\n",
              "      <td>Chapinero</td>\n",
              "      <td>CHAPINERO: Pardo Rubio + Chapinero</td>\n",
              "      <td>1.250000e+09</td>\n",
              "    </tr>\n",
              "    <tr>\n",
              "      <th>4697</th>\n",
              "      <td>Finca</td>\n",
              "      <td>Finca en venta en Barrios Unidos</td>\n",
              "      <td>6</td>\n",
              "      <td>6</td>\n",
              "      <td>8884</td>\n",
              "      <td>Barrios Unidos</td>\n",
              "      <td>Los Andes</td>\n",
              "      <td>1.000000e+09</td>\n",
              "    </tr>\n",
              "    <tr>\n",
              "      <th>2279</th>\n",
              "      <td>Finca</td>\n",
              "      <td>Finca en venta en Barrios Unidos</td>\n",
              "      <td>6</td>\n",
              "      <td>6</td>\n",
              "      <td>8884</td>\n",
              "      <td>Barrios Unidos</td>\n",
              "      <td>Los Andes</td>\n",
              "      <td>1.000000e+09</td>\n",
              "    </tr>\n",
              "    <tr>\n",
              "      <th>9026</th>\n",
              "      <td>Casa</td>\n",
              "      <td>Casa en venta en Usaquén</td>\n",
              "      <td>3</td>\n",
              "      <td>4</td>\n",
              "      <td>6364</td>\n",
              "      <td>Usaquén</td>\n",
              "      <td>Usaquén</td>\n",
              "      <td>3.000000e+09</td>\n",
              "    </tr>\n",
              "    <tr>\n",
              "      <th>1860</th>\n",
              "      <td>Apartamento</td>\n",
              "      <td>Apartamento en venta en Barrios Unidos</td>\n",
              "      <td>3</td>\n",
              "      <td>2</td>\n",
              "      <td>6267</td>\n",
              "      <td>Barrios Unidos</td>\n",
              "      <td>Los Andes</td>\n",
              "      <td>1.430000e+08</td>\n",
              "    </tr>\n",
              "    <tr>\n",
              "      <th>1037</th>\n",
              "      <td>Apartamento</td>\n",
              "      <td>Apartamento en venta en Zona Noroccidental</td>\n",
              "      <td>3</td>\n",
              "      <td>2</td>\n",
              "      <td>5458</td>\n",
              "      <td>Zona Noroccidental</td>\n",
              "      <td>CHAPINERO: Pardo Rubio + Chapinero</td>\n",
              "      <td>1.780000e+08</td>\n",
              "    </tr>\n",
              "    <tr>\n",
              "      <th>7891</th>\n",
              "      <td>Apartamento</td>\n",
              "      <td>Apartamento en venta en Engativa</td>\n",
              "      <td>2</td>\n",
              "      <td>1</td>\n",
              "      <td>4600</td>\n",
              "      <td>Engativa</td>\n",
              "      <td>Engativá</td>\n",
              "      <td>1.550000e+08</td>\n",
              "    </tr>\n",
              "    <tr>\n",
              "      <th>7452</th>\n",
              "      <td>Apartamento</td>\n",
              "      <td>Apartamento en venta en Engativa</td>\n",
              "      <td>2</td>\n",
              "      <td>1</td>\n",
              "      <td>4600</td>\n",
              "      <td>Engativa</td>\n",
              "      <td>Engativá</td>\n",
              "      <td>1.550000e+08</td>\n",
              "    </tr>\n",
              "  </tbody>\n",
              "</table>\n",
              "</div>\n",
              "      <button class=\"colab-df-convert\" onclick=\"convertToInteractive('df-08d507ce-7382-43dd-9867-611e2734fe00')\"\n",
              "              title=\"Convert this dataframe to an interactive table.\"\n",
              "              style=\"display:none;\">\n",
              "        \n",
              "  <svg xmlns=\"http://www.w3.org/2000/svg\" height=\"24px\"viewBox=\"0 0 24 24\"\n",
              "       width=\"24px\">\n",
              "    <path d=\"M0 0h24v24H0V0z\" fill=\"none\"/>\n",
              "    <path d=\"M18.56 5.44l.94 2.06.94-2.06 2.06-.94-2.06-.94-.94-2.06-.94 2.06-2.06.94zm-11 1L8.5 8.5l.94-2.06 2.06-.94-2.06-.94L8.5 2.5l-.94 2.06-2.06.94zm10 10l.94 2.06.94-2.06 2.06-.94-2.06-.94-.94-2.06-.94 2.06-2.06.94z\"/><path d=\"M17.41 7.96l-1.37-1.37c-.4-.4-.92-.59-1.43-.59-.52 0-1.04.2-1.43.59L10.3 9.45l-7.72 7.72c-.78.78-.78 2.05 0 2.83L4 21.41c.39.39.9.59 1.41.59.51 0 1.02-.2 1.41-.59l7.78-7.78 2.81-2.81c.8-.78.8-2.07 0-2.86zM5.41 20L4 18.59l7.72-7.72 1.47 1.35L5.41 20z\"/>\n",
              "  </svg>\n",
              "      </button>\n",
              "      \n",
              "  <style>\n",
              "    .colab-df-container {\n",
              "      display:flex;\n",
              "      flex-wrap:wrap;\n",
              "      gap: 12px;\n",
              "    }\n",
              "\n",
              "    .colab-df-convert {\n",
              "      background-color: #E8F0FE;\n",
              "      border: none;\n",
              "      border-radius: 50%;\n",
              "      cursor: pointer;\n",
              "      display: none;\n",
              "      fill: #1967D2;\n",
              "      height: 32px;\n",
              "      padding: 0 0 0 0;\n",
              "      width: 32px;\n",
              "    }\n",
              "\n",
              "    .colab-df-convert:hover {\n",
              "      background-color: #E2EBFA;\n",
              "      box-shadow: 0px 1px 2px rgba(60, 64, 67, 0.3), 0px 1px 3px 1px rgba(60, 64, 67, 0.15);\n",
              "      fill: #174EA6;\n",
              "    }\n",
              "\n",
              "    [theme=dark] .colab-df-convert {\n",
              "      background-color: #3B4455;\n",
              "      fill: #D2E3FC;\n",
              "    }\n",
              "\n",
              "    [theme=dark] .colab-df-convert:hover {\n",
              "      background-color: #434B5C;\n",
              "      box-shadow: 0px 1px 3px 1px rgba(0, 0, 0, 0.15);\n",
              "      filter: drop-shadow(0px 1px 2px rgba(0, 0, 0, 0.3));\n",
              "      fill: #FFFFFF;\n",
              "    }\n",
              "  </style>\n",
              "\n",
              "      <script>\n",
              "        const buttonEl =\n",
              "          document.querySelector('#df-08d507ce-7382-43dd-9867-611e2734fe00 button.colab-df-convert');\n",
              "        buttonEl.style.display =\n",
              "          google.colab.kernel.accessAllowed ? 'block' : 'none';\n",
              "\n",
              "        async function convertToInteractive(key) {\n",
              "          const element = document.querySelector('#df-08d507ce-7382-43dd-9867-611e2734fe00');\n",
              "          const dataTable =\n",
              "            await google.colab.kernel.invokeFunction('convertToInteractive',\n",
              "                                                     [key], {});\n",
              "          if (!dataTable) return;\n",
              "\n",
              "          const docLinkHtml = 'Like what you see? Visit the ' +\n",
              "            '<a target=\"_blank\" href=https://colab.research.google.com/notebooks/data_table.ipynb>data table notebook</a>'\n",
              "            + ' to learn more about interactive tables.';\n",
              "          element.innerHTML = '';\n",
              "          dataTable['output_type'] = 'display_data';\n",
              "          await google.colab.output.renderOutput(dataTable, element);\n",
              "          const docLink = document.createElement('div');\n",
              "          docLink.innerHTML = docLinkHtml;\n",
              "          element.appendChild(docLink);\n",
              "        }\n",
              "      </script>\n",
              "    </div>\n",
              "  </div>\n",
              "  "
            ]
          },
          "metadata": {},
          "execution_count": 122
        }
      ]
    },
    {
      "cell_type": "markdown",
      "source": [
        "Depurando el dataset: Convirtiendo todos los elementos de la columna valor en números, borrando el símbolo $"
      ],
      "metadata": {
        "id": "de0ztEv8b5hi"
      }
    },
    {
      "cell_type": "code",
      "source": [
        "####Depurando ........\n",
        "inmuebles['Valor'] = inmuebles['Valor'].replace({'\\$ ': '', '\\.': ''}, regex=True).astype(float)\n",
        "\n",
        "inmuebles.sort_values('Valor',ascending=False).head(10)"
      ],
      "metadata": {
        "colab": {
          "base_uri": "https://localhost:8080/",
          "height": 363
        },
        "id": "Q34ZdpicbBjL",
        "outputId": "d75cccac-76c8-4200-e966-e9010a380a5b"
      },
      "execution_count": 123,
      "outputs": [
        {
          "output_type": "execute_result",
          "data": {
            "text/plain": [
              "             Tipo                                 Descripcion  Habitaciones  \\\n",
              "5234     Edificio                Edificio en venta en Usaquén            12   \n",
              "1783  Apartamento            Apartamento en venta en El Chicó             3   \n",
              "8498  Apartamento       Apartamento en venta en La Candelaria             3   \n",
              "8693  Apartamento       Apartamento en venta en La Candelaria             3   \n",
              "2910     Edificio          Edificio en venta en Santa Barbara            22   \n",
              "1103         Casa                  Casa en venta en Santa Ana             4   \n",
              "1301  Apartamento           Apartamento en venta en Chapinero             3   \n",
              "4985  Apartamento         Apartamento en venta en Los Rosales             3   \n",
              "5718  Apartamento             Apartamento en venta en Usaquén             4   \n",
              "5729  Apartamento  Apartamento en venta en Zona Noroccidental             4   \n",
              "\n",
              "      Banos  Area              Barrio                                    UPZ  \\\n",
              "5234      7  1664             Usaquén                                Usaquén   \n",
              "1783      5  1550            El Chicó     CHAPINERO: Chicó Lago + El Refugio   \n",
              "8498      3   443       La Candelaria                          La Candelaria   \n",
              "8693      3   443       La Candelaria                          La Candelaria   \n",
              "2910      0  1080       Santa Barbara  USAQUÉN: Country Club + Santa Bárbara   \n",
              "1103      6   674           Santa Ana                                Usaquén   \n",
              "1301      5   476           Chapinero     CHAPINERO: Pardo Rubio + Chapinero   \n",
              "4985      5   381         Los Rosales     CHAPINERO: Chicó Lago + El Refugio   \n",
              "5718      6   540             Usaquén                                Usaquén   \n",
              "5729      7   550  Zona Noroccidental     CHAPINERO: Pardo Rubio + Chapinero   \n",
              "\n",
              "             Valor  \n",
              "5234  1.600000e+10  \n",
              "1783  1.320000e+10  \n",
              "8498  1.045150e+10  \n",
              "8693  1.045150e+10  \n",
              "2910  9.200000e+09  \n",
              "1103  8.800000e+09  \n",
              "1301  8.550000e+09  \n",
              "4985  8.358000e+09  \n",
              "5718  7.500000e+09  \n",
              "5729  7.200000e+09  "
            ],
            "text/html": [
              "\n",
              "  <div id=\"df-d5ecb749-5166-4216-89ca-a43ee2012e52\">\n",
              "    <div class=\"colab-df-container\">\n",
              "      <div>\n",
              "<style scoped>\n",
              "    .dataframe tbody tr th:only-of-type {\n",
              "        vertical-align: middle;\n",
              "    }\n",
              "\n",
              "    .dataframe tbody tr th {\n",
              "        vertical-align: top;\n",
              "    }\n",
              "\n",
              "    .dataframe thead th {\n",
              "        text-align: right;\n",
              "    }\n",
              "</style>\n",
              "<table border=\"1\" class=\"dataframe\">\n",
              "  <thead>\n",
              "    <tr style=\"text-align: right;\">\n",
              "      <th></th>\n",
              "      <th>Tipo</th>\n",
              "      <th>Descripcion</th>\n",
              "      <th>Habitaciones</th>\n",
              "      <th>Banos</th>\n",
              "      <th>Area</th>\n",
              "      <th>Barrio</th>\n",
              "      <th>UPZ</th>\n",
              "      <th>Valor</th>\n",
              "    </tr>\n",
              "  </thead>\n",
              "  <tbody>\n",
              "    <tr>\n",
              "      <th>5234</th>\n",
              "      <td>Edificio</td>\n",
              "      <td>Edificio en venta en Usaquén</td>\n",
              "      <td>12</td>\n",
              "      <td>7</td>\n",
              "      <td>1664</td>\n",
              "      <td>Usaquén</td>\n",
              "      <td>Usaquén</td>\n",
              "      <td>1.600000e+10</td>\n",
              "    </tr>\n",
              "    <tr>\n",
              "      <th>1783</th>\n",
              "      <td>Apartamento</td>\n",
              "      <td>Apartamento en venta en El Chicó</td>\n",
              "      <td>3</td>\n",
              "      <td>5</td>\n",
              "      <td>1550</td>\n",
              "      <td>El Chicó</td>\n",
              "      <td>CHAPINERO: Chicó Lago + El Refugio</td>\n",
              "      <td>1.320000e+10</td>\n",
              "    </tr>\n",
              "    <tr>\n",
              "      <th>8498</th>\n",
              "      <td>Apartamento</td>\n",
              "      <td>Apartamento en venta en La Candelaria</td>\n",
              "      <td>3</td>\n",
              "      <td>3</td>\n",
              "      <td>443</td>\n",
              "      <td>La Candelaria</td>\n",
              "      <td>La Candelaria</td>\n",
              "      <td>1.045150e+10</td>\n",
              "    </tr>\n",
              "    <tr>\n",
              "      <th>8693</th>\n",
              "      <td>Apartamento</td>\n",
              "      <td>Apartamento en venta en La Candelaria</td>\n",
              "      <td>3</td>\n",
              "      <td>3</td>\n",
              "      <td>443</td>\n",
              "      <td>La Candelaria</td>\n",
              "      <td>La Candelaria</td>\n",
              "      <td>1.045150e+10</td>\n",
              "    </tr>\n",
              "    <tr>\n",
              "      <th>2910</th>\n",
              "      <td>Edificio</td>\n",
              "      <td>Edificio en venta en Santa Barbara</td>\n",
              "      <td>22</td>\n",
              "      <td>0</td>\n",
              "      <td>1080</td>\n",
              "      <td>Santa Barbara</td>\n",
              "      <td>USAQUÉN: Country Club + Santa Bárbara</td>\n",
              "      <td>9.200000e+09</td>\n",
              "    </tr>\n",
              "    <tr>\n",
              "      <th>1103</th>\n",
              "      <td>Casa</td>\n",
              "      <td>Casa en venta en Santa Ana</td>\n",
              "      <td>4</td>\n",
              "      <td>6</td>\n",
              "      <td>674</td>\n",
              "      <td>Santa Ana</td>\n",
              "      <td>Usaquén</td>\n",
              "      <td>8.800000e+09</td>\n",
              "    </tr>\n",
              "    <tr>\n",
              "      <th>1301</th>\n",
              "      <td>Apartamento</td>\n",
              "      <td>Apartamento en venta en Chapinero</td>\n",
              "      <td>3</td>\n",
              "      <td>5</td>\n",
              "      <td>476</td>\n",
              "      <td>Chapinero</td>\n",
              "      <td>CHAPINERO: Pardo Rubio + Chapinero</td>\n",
              "      <td>8.550000e+09</td>\n",
              "    </tr>\n",
              "    <tr>\n",
              "      <th>4985</th>\n",
              "      <td>Apartamento</td>\n",
              "      <td>Apartamento en venta en Los Rosales</td>\n",
              "      <td>3</td>\n",
              "      <td>5</td>\n",
              "      <td>381</td>\n",
              "      <td>Los Rosales</td>\n",
              "      <td>CHAPINERO: Chicó Lago + El Refugio</td>\n",
              "      <td>8.358000e+09</td>\n",
              "    </tr>\n",
              "    <tr>\n",
              "      <th>5718</th>\n",
              "      <td>Apartamento</td>\n",
              "      <td>Apartamento en venta en Usaquén</td>\n",
              "      <td>4</td>\n",
              "      <td>6</td>\n",
              "      <td>540</td>\n",
              "      <td>Usaquén</td>\n",
              "      <td>Usaquén</td>\n",
              "      <td>7.500000e+09</td>\n",
              "    </tr>\n",
              "    <tr>\n",
              "      <th>5729</th>\n",
              "      <td>Apartamento</td>\n",
              "      <td>Apartamento en venta en Zona Noroccidental</td>\n",
              "      <td>4</td>\n",
              "      <td>7</td>\n",
              "      <td>550</td>\n",
              "      <td>Zona Noroccidental</td>\n",
              "      <td>CHAPINERO: Pardo Rubio + Chapinero</td>\n",
              "      <td>7.200000e+09</td>\n",
              "    </tr>\n",
              "  </tbody>\n",
              "</table>\n",
              "</div>\n",
              "      <button class=\"colab-df-convert\" onclick=\"convertToInteractive('df-d5ecb749-5166-4216-89ca-a43ee2012e52')\"\n",
              "              title=\"Convert this dataframe to an interactive table.\"\n",
              "              style=\"display:none;\">\n",
              "        \n",
              "  <svg xmlns=\"http://www.w3.org/2000/svg\" height=\"24px\"viewBox=\"0 0 24 24\"\n",
              "       width=\"24px\">\n",
              "    <path d=\"M0 0h24v24H0V0z\" fill=\"none\"/>\n",
              "    <path d=\"M18.56 5.44l.94 2.06.94-2.06 2.06-.94-2.06-.94-.94-2.06-.94 2.06-2.06.94zm-11 1L8.5 8.5l.94-2.06 2.06-.94-2.06-.94L8.5 2.5l-.94 2.06-2.06.94zm10 10l.94 2.06.94-2.06 2.06-.94-2.06-.94-.94-2.06-.94 2.06-2.06.94z\"/><path d=\"M17.41 7.96l-1.37-1.37c-.4-.4-.92-.59-1.43-.59-.52 0-1.04.2-1.43.59L10.3 9.45l-7.72 7.72c-.78.78-.78 2.05 0 2.83L4 21.41c.39.39.9.59 1.41.59.51 0 1.02-.2 1.41-.59l7.78-7.78 2.81-2.81c.8-.78.8-2.07 0-2.86zM5.41 20L4 18.59l7.72-7.72 1.47 1.35L5.41 20z\"/>\n",
              "  </svg>\n",
              "      </button>\n",
              "      \n",
              "  <style>\n",
              "    .colab-df-container {\n",
              "      display:flex;\n",
              "      flex-wrap:wrap;\n",
              "      gap: 12px;\n",
              "    }\n",
              "\n",
              "    .colab-df-convert {\n",
              "      background-color: #E8F0FE;\n",
              "      border: none;\n",
              "      border-radius: 50%;\n",
              "      cursor: pointer;\n",
              "      display: none;\n",
              "      fill: #1967D2;\n",
              "      height: 32px;\n",
              "      padding: 0 0 0 0;\n",
              "      width: 32px;\n",
              "    }\n",
              "\n",
              "    .colab-df-convert:hover {\n",
              "      background-color: #E2EBFA;\n",
              "      box-shadow: 0px 1px 2px rgba(60, 64, 67, 0.3), 0px 1px 3px 1px rgba(60, 64, 67, 0.15);\n",
              "      fill: #174EA6;\n",
              "    }\n",
              "\n",
              "    [theme=dark] .colab-df-convert {\n",
              "      background-color: #3B4455;\n",
              "      fill: #D2E3FC;\n",
              "    }\n",
              "\n",
              "    [theme=dark] .colab-df-convert:hover {\n",
              "      background-color: #434B5C;\n",
              "      box-shadow: 0px 1px 3px 1px rgba(0, 0, 0, 0.15);\n",
              "      filter: drop-shadow(0px 1px 2px rgba(0, 0, 0, 0.3));\n",
              "      fill: #FFFFFF;\n",
              "    }\n",
              "  </style>\n",
              "\n",
              "      <script>\n",
              "        const buttonEl =\n",
              "          document.querySelector('#df-d5ecb749-5166-4216-89ca-a43ee2012e52 button.colab-df-convert');\n",
              "        buttonEl.style.display =\n",
              "          google.colab.kernel.accessAllowed ? 'block' : 'none';\n",
              "\n",
              "        async function convertToInteractive(key) {\n",
              "          const element = document.querySelector('#df-d5ecb749-5166-4216-89ca-a43ee2012e52');\n",
              "          const dataTable =\n",
              "            await google.colab.kernel.invokeFunction('convertToInteractive',\n",
              "                                                     [key], {});\n",
              "          if (!dataTable) return;\n",
              "\n",
              "          const docLinkHtml = 'Like what you see? Visit the ' +\n",
              "            '<a target=\"_blank\" href=https://colab.research.google.com/notebooks/data_table.ipynb>data table notebook</a>'\n",
              "            + ' to learn more about interactive tables.';\n",
              "          element.innerHTML = '';\n",
              "          dataTable['output_type'] = 'display_data';\n",
              "          await google.colab.output.renderOutput(dataTable, element);\n",
              "          const docLink = document.createElement('div');\n",
              "          docLink.innerHTML = docLinkHtml;\n",
              "          element.appendChild(docLink);\n",
              "        }\n",
              "      </script>\n",
              "    </div>\n",
              "  </div>\n",
              "  "
            ]
          },
          "metadata": {},
          "execution_count": 123
        }
      ]
    },
    {
      "cell_type": "code",
      "source": [
        "#Visualizando los nombres de todos los barrios sin repetir//\n",
        "Nombr_Barrios = inmuebles['Barrio'].unique()\n",
        "Nombr_Barrios"
      ],
      "metadata": {
        "colab": {
          "base_uri": "https://localhost:8080/"
        },
        "id": "ysKq-10cObQW",
        "outputId": "d819c9c0-f68a-4ebe-f707-044ff7f387c3"
      },
      "execution_count": 124,
      "outputs": [
        {
          "output_type": "execute_result",
          "data": {
            "text/plain": [
              "array(['Zona Noroccidental', 'Castilla', 'Chico Reservado', 'Usaquén',\n",
              "       'Bella Suiza', 'El Chicó', 'Tintala', 'Marly', 'Kennedy',\n",
              "       'Nicolas De Federman', 'La Calleja', 'Mazuren', 'Suba',\n",
              "       'Barrios Unidos', 'Engativa', 'Fontibón', 'Villa Alsacia',\n",
              "       'Palermo', 'La Candelaria', 'El Contador', 'El Batán',\n",
              "       'Santa Barbara', 'Mirandela ', 'Cedritos', 'Colina Campestre',\n",
              "       'Hayuelos', 'Ciudad Salitre', 'Quinta Paredes',\n",
              "       'Candelaria La Nueva', 'Chico Norte', 'Normandia',\n",
              "       'Ciudad Bolívar', 'Bosa', 'Rafael Uribe Uribe', 'Las Villas',\n",
              "       'Modelia', 'San Patricio', 'Barrancas', 'Teusaquillo',\n",
              "       'Puente Aranda', 'Chapinero', 'Usme', 'Nueva Zelandia', 'Madelena',\n",
              "       'El Plan', 'Santa Paula', 'Villemar', 'Santa Fe', 'Antonio Nariño',\n",
              "       'La Uribe', 'Los Rosales', 'Chapinero Central', 'Los Mártires',\n",
              "       'Bogotá D.C', 'San Cristobal', 'Boyaca ', 'Timiza', 'Gran America',\n",
              "       'Costa Azul', 'Gran Granada', 'La Salle', 'Portales Del Norte',\n",
              "       'Cantagallo', 'Ciudad Berna', 'Villas De Granada', 'Santa Teresa',\n",
              "       'Eduardo Santos', 'Pasadena ', 'Florida Blanca', 'Metropolis',\n",
              "       'Galicia', 'Villa Maria', 'Puente Largo', 'La Estancia',\n",
              "       'Sotavento', 'Bosque De Pinos', 'Florencia', 'Bochica',\n",
              "       'Tunjuelito', 'El Salitre', 'La Granja', 'La Soledad ',\n",
              "       'Santa Ana', 'Capellania', 'Bellavista Occidental', 'Alhambra',\n",
              "       'Veraguas', 'El Retiro', 'El Refugio', 'Pontevedra ',\n",
              "       'Lagos De Cordoba', 'Parque Central Bavaria', 'San Luis',\n",
              "       'Quinta Camacho', 'Nueva Autopista', 'Casablanca', 'Las Nieves',\n",
              "       'La Macarena', 'Bosque Popular', 'Ciudadela Colsubsidio',\n",
              "       'San Antonio Norte', 'Chapinero Alto', 'Salitre ', 'Chico Navarra',\n",
              "       'Buenos Aires', 'Ricaurte', 'Restrepo', 'Las Aguas',\n",
              "       'Chico Norte Ii', 'Niza', 'Pinar De Suba', 'Estrada', 'El Virrey',\n",
              "       'Colinas De Suba', 'Gustavo Restrepo', 'Nueva Castilla',\n",
              "       'Quirigua', 'Los Lagartos', 'Bosa Porvenir', 'Bosa Piamonte',\n",
              "       'Andes Norte', 'Venecia', 'La Merced', 'San Diego', 'Libertador',\n",
              "       'Las Ferias', 'Santa Librada', 'Galerias', 'Gratamira', 'Alameda',\n",
              "       'San Cipriano', 'Cerros De Suba', 'Quiroga', 'Roma',\n",
              "       'La Estanzuela', 'La Sabana', 'Patio Bonito', 'Turingia',\n",
              "       'Las Cruces', 'Lago De Suba', 'Zona Franca', 'Ingles',\n",
              "       'El Castillo', 'Las Delicias', 'Verbenal', 'El Tunal',\n",
              "       'Santa Maria Del Lago', 'El Progreso', 'Prado Veraniego'],\n",
              "      dtype=object)"
            ]
          },
          "metadata": {},
          "execution_count": 124
        }
      ]
    },
    {
      "cell_type": "code",
      "source": [
        "#Visualizando la cantidad de barrios en el dataset\n",
        "len(Nombr_Barrios)"
      ],
      "metadata": {
        "colab": {
          "base_uri": "https://localhost:8080/"
        },
        "id": "zC17LeoePC5E",
        "outputId": "ca05bf46-35c1-4197-fd68-88fc1fda53a8"
      },
      "execution_count": 125,
      "outputs": [
        {
          "output_type": "execute_result",
          "data": {
            "text/plain": [
              "149"
            ]
          },
          "metadata": {},
          "execution_count": 125
        }
      ]
    },
    {
      "cell_type": "markdown",
      "source": [
        "Encontrando el promedio de área de todos los inmuebles en los barrios en el dataset."
      ],
      "metadata": {
        "id": "dZa-djxBPPM6"
      }
    },
    {
      "cell_type": "code",
      "source": [
        "###Agrupando por promedio de área\n",
        "inmuebles_area=inmuebles.groupby(by=[\"Barrio\"]).Area.mean()\n",
        "inmuebles_area.sort_values(ascending=False).head(10)"
      ],
      "metadata": {
        "colab": {
          "base_uri": "https://localhost:8080/"
        },
        "id": "n2Qe1x2pPJwa",
        "outputId": "4dfe5dbb-664f-450b-f4ee-ed59f2f517f2"
      },
      "execution_count": 126,
      "outputs": [
        {
          "output_type": "execute_result",
          "data": {
            "text/plain": [
              "Barrio\n",
              "Modelia                  4316.750000\n",
              "Libertador                642.000000\n",
              "Bosa Piamonte             400.000000\n",
              "La Soledad                378.625000\n",
              "Restrepo                  336.500000\n",
              "Santa Librada             328.000000\n",
              "Las Ferias                320.000000\n",
              "Santa Ana                 309.375000\n",
              "Veraguas                  302.666667\n",
              "Bellavista Occidental     286.200000\n",
              "Name: Area, dtype: float64"
            ]
          },
          "metadata": {},
          "execution_count": 126
        }
      ]
    },
    {
      "cell_type": "code",
      "source": [
        "###Agrupando por promedio de Valor\n",
        "inmuebles_valor=inmuebles.groupby(by=[\"Barrio\"]).Valor.mean()\n",
        "inmuebles_valor.sort_values(ascending=False).head(10)"
      ],
      "metadata": {
        "colab": {
          "base_uri": "https://localhost:8080/"
        },
        "id": "m8LbBDGacIwb",
        "outputId": "b81df7bd-8fca-4ce4-be9c-acb3b4c7d5f1"
      },
      "execution_count": 146,
      "outputs": [
        {
          "output_type": "execute_result",
          "data": {
            "text/plain": [
              "Barrio\n",
              "Santa Ana          3.172500e+09\n",
              "La Candelaria      1.544228e+09\n",
              "El Retiro          1.528421e+09\n",
              "Los Rosales        1.479647e+09\n",
              "Quinta Camacho     1.449216e+09\n",
              "El Chicó           1.393411e+09\n",
              "Cerros De Suba     1.315000e+09\n",
              "Chico Navarra      1.292083e+09\n",
              "El Refugio         1.231625e+09\n",
              "Chico Reservado    1.157213e+09\n",
              "Name: Valor, dtype: float64"
            ]
          },
          "metadata": {},
          "execution_count": 146
        }
      ]
    },
    {
      "cell_type": "markdown",
      "source": [
        "Graficando las áreas promedio de cada barrio en orden descendente"
      ],
      "metadata": {
        "id": "Y1GAXbQDPny6"
      }
    },
    {
      "cell_type": "code",
      "source": [
        "inmuebles_area.sort_values(ascending=False).plot.bar()"
      ],
      "metadata": {
        "colab": {
          "base_uri": "https://localhost:8080/",
          "height": 402
        },
        "id": "ny_q9LgEPiuZ",
        "outputId": "b976f550-2355-4920-9e1e-1affcb6ba814"
      },
      "execution_count": 128,
      "outputs": [
        {
          "output_type": "execute_result",
          "data": {
            "text/plain": [
              "<Axes: xlabel='Barrio'>"
            ]
          },
          "metadata": {},
          "execution_count": 128
        },
        {
          "output_type": "display_data",
          "data": {
            "text/plain": [
              "<Figure size 432x288 with 1 Axes>"
            ],
            "image/png": "[encoded data removed]"
          },
          "metadata": {
            "needs_background": "light"
          }
        }
      ]
    },
    {
      "cell_type": "markdown",
      "source": [
        "Graficando las 10 mayores áreas promedio con respecto a los barrios\n"
      ],
      "metadata": {
        "id": "xuYVrdc7PxYi"
      }
    },
    {
      "cell_type": "code",
      "source": [
        "inmuebles_area.sort_values(ascending=False).head(10).plot.bar()"
      ],
      "metadata": {
        "colab": {
          "base_uri": "https://localhost:8080/",
          "height": 392
        },
        "id": "SaLfJ-SaQJUK",
        "outputId": "96e41fa1-35b0-43f1-d951-b2c82b06703e"
      },
      "execution_count": 129,
      "outputs": [
        {
          "output_type": "execute_result",
          "data": {
            "text/plain": [
              "<Axes: xlabel='Barrio'>"
            ]
          },
          "metadata": {},
          "execution_count": 129
        },
        {
          "output_type": "display_data",
          "data": {
            "text/plain": [
              "<Figure size 432x288 with 1 Axes>"
            ],
            "image/png": "[encoded data removed]"
          },
          "metadata": {
            "needs_background": "light"
          }
        }
      ]
    },
    {
      "cell_type": "code",
      "source": [
        "#Visualizando la cantidad de propiedades por barrio que sean menores a la cantidad\n",
        "# de propiedades en el barrio Modelia\n",
        "inmuebles_cant=inmuebles.value_counts(\"Barrio\")\n",
        "inmuebles_cant[(inmuebles_cant<=inmuebles_cant['Modelia'] )].head(15)"
      ],
      "metadata": {
        "colab": {
          "base_uri": "https://localhost:8080/"
        },
        "id": "5I7HJ9DSkYZz",
        "outputId": "0094a077-a46a-49a6-b77c-7db063765c91"
      },
      "execution_count": 147,
      "outputs": [
        {
          "output_type": "execute_result",
          "data": {
            "text/plain": [
              "Barrio\n",
              "Colina Campestre       40\n",
              "Modelia                40\n",
              "San Cristobal          38\n",
              "Los Mártires           38\n",
              "Las Nieves             37\n",
              "Nicolas De Federman    37\n",
              "Villa Alsacia          35\n",
              "Chapinero Alto         35\n",
              "La Candelaria          32\n",
              "El Plan                31\n",
              "Castilla               30\n",
              "Puente Largo           30\n",
              "Tunjuelito             29\n",
              "Hayuelos               28\n",
              "Madelena               28\n",
              "dtype: int64"
            ]
          },
          "metadata": {},
          "execution_count": 147
        }
      ]
    },
    {
      "cell_type": "code",
      "source": [
        "#Visualizando la cantidad de propiedades por barrio que sean mayores a la cantidad\n",
        "# de propiedades en el barrio Modelia\n",
        "inmuebles_cant=inmuebles.value_counts(\"Barrio\")\n",
        "inmuebles_cant[(inmuebles_cant >=inmuebles_cant['Modelia'] )].head(15)"
      ],
      "metadata": {
        "colab": {
          "base_uri": "https://localhost:8080/"
        },
        "id": "ECeYCD30pFcj",
        "outputId": "18be5d17-110d-4777-fdad-32c2fbc75366"
      },
      "execution_count": 148,
      "outputs": [
        {
          "output_type": "execute_result",
          "data": {
            "text/plain": [
              "Barrio\n",
              "Usaquén               1105\n",
              "Zona Noroccidental     877\n",
              "Kennedy                589\n",
              "Bosa                   589\n",
              "Cedritos               554\n",
              "Barrios Unidos         473\n",
              "Engativa               462\n",
              "Suba                   443\n",
              "Santa Barbara          438\n",
              "Chapinero              332\n",
              "Fontibón               270\n",
              "Chico Reservado        225\n",
              "Teusaquillo            180\n",
              "El Batán               133\n",
              "Puente Aranda          116\n",
              "dtype: int64"
            ]
          },
          "metadata": {},
          "execution_count": 148
        }
      ]
    },
    {
      "cell_type": "code",
      "source": [
        "#Barrios con mayor Área total acumulada\n",
        "inmuebles.groupby(\"Barrio\").Area.sum().sort_values(ascending=False).head(15)"
      ],
      "metadata": {
        "colab": {
          "base_uri": "https://localhost:8080/"
        },
        "id": "QKvKm1qC_Kub",
        "outputId": "9b41edcc-dbc6-4d5b-e512-92403e61b93b"
      },
      "execution_count": 145,
      "outputs": [
        {
          "output_type": "execute_result",
          "data": {
            "text/plain": [
              "Barrio\n",
              "Modelia               172670\n",
              "Usaquén               148121\n",
              "Zona Noroccidental    119084\n",
              "Barrios Unidos         87799\n",
              "Chapinero              81248\n",
              "Suba                   61615\n",
              "Kennedy                61475\n",
              "Engativa               59808\n",
              "Santa Barbara          54693\n",
              "Cedritos               53711\n",
              "Bosa                   34879\n",
              "Chico Reservado        32127\n",
              "Teusaquillo            31057\n",
              "Fontibón               25383\n",
              "Puente Aranda          20759\n",
              "Name: Area, dtype: int64"
            ]
          },
          "metadata": {},
          "execution_count": 145
        }
      ]
    },
    {
      "cell_type": "markdown",
      "source": [
        "De lo visto hasta ahora Esto se debe a que Modelia es el barrio que mas Área total posee y uno de los barrios que menos inmuebles tiene; y al estar hablando de área promedio se obtiene por cálculo la diferencia que tan grande que hay con los otros barrios. Por ejemplo el barrio \"Chico Reservado\" es uno de los 15 barrios con mayor área total y con mayor cantidad de propiedades; de esta forma al sacar el promedio se obtiene un resultado mucho menor al promedio que se obtiene por Modelia. En general todos los barrios tienen una cantidad equilibrada entre área total y propiedaes; sin embargo este no es el caso de Modelia y esa es la razón de la diferencia tan grande con respecto a los otros barrios."
      ],
      "metadata": {
        "id": "YJYuosjBg2L5"
      }
    },
    {
      "cell_type": "markdown",
      "source": [
        "**Desafío**\n",
        "\n",
        "\n",
        "\n",
        "2. Consultar otros datos estadísticos, conteo, mediana, valores mínimo y máximo."
      ],
      "metadata": {
        "id": "bTcE3SfBQVar"
      }
    },
    {
      "cell_type": "markdown",
      "source": [
        "Usando la función describe para obtener los datos estadísticos de las columnas que tengan valores numéricos\n"
      ],
      "metadata": {
        "id": "GbrVCO7AQeVr"
      }
    },
    {
      "cell_type": "code",
      "source": [
        "inmuebles.describe()"
      ],
      "metadata": {
        "colab": {
          "base_uri": "https://localhost:8080/",
          "height": 300
        },
        "id": "iqBBj2NhQW-i",
        "outputId": "0b87f4e3-0d8f-4ae1-fb6c-742193d60df3"
      },
      "execution_count": 88,
      "outputs": [
        {
          "output_type": "execute_result",
          "data": {
            "text/plain": [
              "       Habitaciones        Banos           Area         Valor\n",
              "count   9520.000000  9520.000000    9520.000000  9.520000e+03\n",
              "mean       3.072479     2.447899     146.664706  6.020624e+08\n",
              "std        2.049856     1.255314    1731.379622  7.046021e+08\n",
              "min        1.000000     0.000000       2.000000  6.000000e+07\n",
              "25%        2.000000     2.000000      57.000000  2.500000e+08\n",
              "50%        3.000000     2.000000      80.000000  4.091825e+08\n",
              "75%        3.000000     3.000000     135.000000  6.800000e+08\n",
              "max      110.000000     9.000000  166243.000000  1.600000e+10"
            ],
            "text/html": [
              "\n",
              "  <div id=\"df-fabcb4e6-5e42-4ec8-a414-7d9c3423c7f4\">\n",
              "    <div class=\"colab-df-container\">\n",
              "      <div>\n",
              "<style scoped>\n",
              "    .dataframe tbody tr th:only-of-type {\n",
              "        vertical-align: middle;\n",
              "    }\n",
              "\n",
              "    .dataframe tbody tr th {\n",
              "        vertical-align: top;\n",
              "    }\n",
              "\n",
              "    .dataframe thead th {\n",
              "        text-align: right;\n",
              "    }\n",
              "</style>\n",
              "<table border=\"1\" class=\"dataframe\">\n",
              "  <thead>\n",
              "    <tr style=\"text-align: right;\">\n",
              "      <th></th>\n",
              "      <th>Habitaciones</th>\n",
              "      <th>Banos</th>\n",
              "      <th>Area</th>\n",
              "      <th>Valor</th>\n",
              "    </tr>\n",
              "  </thead>\n",
              "  <tbody>\n",
              "    <tr>\n",
              "      <th>count</th>\n",
              "      <td>9520.000000</td>\n",
              "      <td>9520.000000</td>\n",
              "      <td>9520.000000</td>\n",
              "      <td>9.520000e+03</td>\n",
              "    </tr>\n",
              "    <tr>\n",
              "      <th>mean</th>\n",
              "      <td>3.072479</td>\n",
              "      <td>2.447899</td>\n",
              "      <td>146.664706</td>\n",
              "      <td>6.020624e+08</td>\n",
              "    </tr>\n",
              "    <tr>\n",
              "      <th>std</th>\n",
              "      <td>2.049856</td>\n",
              "      <td>1.255314</td>\n",
              "      <td>1731.379622</td>\n",
              "      <td>7.046021e+08</td>\n",
              "    </tr>\n",
              "    <tr>\n",
              "      <th>min</th>\n",
              "      <td>1.000000</td>\n",
              "      <td>0.000000</td>\n",
              "      <td>2.000000</td>\n",
              "      <td>6.000000e+07</td>\n",
              "    </tr>\n",
              "    <tr>\n",
              "      <th>25%</th>\n",
              "      <td>2.000000</td>\n",
              "      <td>2.000000</td>\n",
              "      <td>57.000000</td>\n",
              "      <td>2.500000e+08</td>\n",
              "    </tr>\n",
              "    <tr>\n",
              "      <th>50%</th>\n",
              "      <td>3.000000</td>\n",
              "      <td>2.000000</td>\n",
              "      <td>80.000000</td>\n",
              "      <td>4.091825e+08</td>\n",
              "    </tr>\n",
              "    <tr>\n",
              "      <th>75%</th>\n",
              "      <td>3.000000</td>\n",
              "      <td>3.000000</td>\n",
              "      <td>135.000000</td>\n",
              "      <td>6.800000e+08</td>\n",
              "    </tr>\n",
              "    <tr>\n",
              "      <th>max</th>\n",
              "      <td>110.000000</td>\n",
              "      <td>9.000000</td>\n",
              "      <td>166243.000000</td>\n",
              "      <td>1.600000e+10</td>\n",
              "    </tr>\n",
              "  </tbody>\n",
              "</table>\n",
              "</div>\n",
              "      <button class=\"colab-df-convert\" onclick=\"convertToInteractive('df-fabcb4e6-5e42-4ec8-a414-7d9c3423c7f4')\"\n",
              "              title=\"Convert this dataframe to an interactive table.\"\n",
              "              style=\"display:none;\">\n",
              "        \n",
              "  <svg xmlns=\"http://www.w3.org/2000/svg\" height=\"24px\"viewBox=\"0 0 24 24\"\n",
              "       width=\"24px\">\n",
              "    <path d=\"M0 0h24v24H0V0z\" fill=\"none\"/>\n",
              "    <path d=\"M18.56 5.44l.94 2.06.94-2.06 2.06-.94-2.06-.94-.94-2.06-.94 2.06-2.06.94zm-11 1L8.5 8.5l.94-2.06 2.06-.94-2.06-.94L8.5 2.5l-.94 2.06-2.06.94zm10 10l.94 2.06.94-2.06 2.06-.94-2.06-.94-.94-2.06-.94 2.06-2.06.94z\"/><path d=\"M17.41 7.96l-1.37-1.37c-.4-.4-.92-.59-1.43-.59-.52 0-1.04.2-1.43.59L10.3 9.45l-7.72 7.72c-.78.78-.78 2.05 0 2.83L4 21.41c.39.39.9.59 1.41.59.51 0 1.02-.2 1.41-.59l7.78-7.78 2.81-2.81c.8-.78.8-2.07 0-2.86zM5.41 20L4 18.59l7.72-7.72 1.47 1.35L5.41 20z\"/>\n",
              "  </svg>\n",
              "      </button>\n",
              "      \n",
              "  <style>\n",
              "    .colab-df-container {\n",
              "      display:flex;\n",
              "      flex-wrap:wrap;\n",
              "      gap: 12px;\n",
              "    }\n",
              "\n",
              "    .colab-df-convert {\n",
              "      background-color: #E8F0FE;\n",
              "      border: none;\n",
              "      border-radius: 50%;\n",
              "      cursor: pointer;\n",
              "      display: none;\n",
              "      fill: #1967D2;\n",
              "      height: 32px;\n",
              "      padding: 0 0 0 0;\n",
              "      width: 32px;\n",
              "    }\n",
              "\n",
              "    .colab-df-convert:hover {\n",
              "      background-color: #E2EBFA;\n",
              "      box-shadow: 0px 1px 2px rgba(60, 64, 67, 0.3), 0px 1px 3px 1px rgba(60, 64, 67, 0.15);\n",
              "      fill: #174EA6;\n",
              "    }\n",
              "\n",
              "    [theme=dark] .colab-df-convert {\n",
              "      background-color: #3B4455;\n",
              "      fill: #D2E3FC;\n",
              "    }\n",
              "\n",
              "    [theme=dark] .colab-df-convert:hover {\n",
              "      background-color: #434B5C;\n",
              "      box-shadow: 0px 1px 3px 1px rgba(0, 0, 0, 0.15);\n",
              "      filter: drop-shadow(0px 1px 2px rgba(0, 0, 0, 0.3));\n",
              "      fill: #FFFFFF;\n",
              "    }\n",
              "  </style>\n",
              "\n",
              "      <script>\n",
              "        const buttonEl =\n",
              "          document.querySelector('#df-fabcb4e6-5e42-4ec8-a414-7d9c3423c7f4 button.colab-df-convert');\n",
              "        buttonEl.style.display =\n",
              "          google.colab.kernel.accessAllowed ? 'block' : 'none';\n",
              "\n",
              "        async function convertToInteractive(key) {\n",
              "          const element = document.querySelector('#df-fabcb4e6-5e42-4ec8-a414-7d9c3423c7f4');\n",
              "          const dataTable =\n",
              "            await google.colab.kernel.invokeFunction('convertToInteractive',\n",
              "                                                     [key], {});\n",
              "          if (!dataTable) return;\n",
              "\n",
              "          const docLinkHtml = 'Like what you see? Visit the ' +\n",
              "            '<a target=\"_blank\" href=https://colab.research.google.com/notebooks/data_table.ipynb>data table notebook</a>'\n",
              "            + ' to learn more about interactive tables.';\n",
              "          element.innerHTML = '';\n",
              "          dataTable['output_type'] = 'display_data';\n",
              "          await google.colab.output.renderOutput(dataTable, element);\n",
              "          const docLink = document.createElement('div');\n",
              "          docLink.innerHTML = docLinkHtml;\n",
              "          element.appendChild(docLink);\n",
              "        }\n",
              "      </script>\n",
              "    </div>\n",
              "  </div>\n",
              "  "
            ]
          },
          "metadata": {},
          "execution_count": 88
        }
      ]
    },
    {
      "cell_type": "markdown",
      "source": [
        "Obteniendo los datos estadísticos agrupando por Barrio y por los valores estadísticos referidos al Área. Ordenados de manera Descendente."
      ],
      "metadata": {
        "id": "8WVx86meSjJi"
      }
    },
    {
      "cell_type": "code",
      "source": [
        "Datos_Est_Barr_Area = inmuebles.groupby('Barrio')['Area'].agg(['count','mean','median','max','min'])\n",
        "Datos_Est_Barr_Area.sort_values('mean',ascending=False).head(10)"
      ],
      "metadata": {
        "colab": {
          "base_uri": "https://localhost:8080/",
          "height": 394
        },
        "id": "h5u4qNGIQi3s",
        "outputId": "15e90b84-f925-4449-8bf6-767b9b5da12f"
      },
      "execution_count": 95,
      "outputs": [
        {
          "output_type": "execute_result",
          "data": {
            "text/plain": [
              "                       count         mean  median     max  min\n",
              "Barrio                                                        \n",
              "Modelia                   40  4316.750000   155.5  166243   48\n",
              "Libertador                 4   642.000000   642.0     984  300\n",
              "Bosa Piamonte              2   400.000000   400.0     400  400\n",
              "La Soledad                 8   378.625000   229.0    1350   92\n",
              "Restrepo                  10   336.500000   365.0     600   48\n",
              "Santa Librada              2   328.000000   328.0     340  316\n",
              "Las Ferias                 2   320.000000   320.0     320  320\n",
              "Santa Ana                  8   309.375000   245.0     674  108\n",
              "Veraguas                   6   302.666667   162.0    1200   59\n",
              "Bellavista Occidental      5   286.200000   173.0     456  173"
            ],
            "text/html": [
              "\n",
              "  <div id=\"df-d265b462-eec6-4bde-8abc-3dcaa873fac9\">\n",
              "    <div class=\"colab-df-container\">\n",
              "      <div>\n",
              "<style scoped>\n",
              "    .dataframe tbody tr th:only-of-type {\n",
              "        vertical-align: middle;\n",
              "    }\n",
              "\n",
              "    .dataframe tbody tr th {\n",
              "        vertical-align: top;\n",
              "    }\n",
              "\n",
              "    .dataframe thead th {\n",
              "        text-align: right;\n",
              "    }\n",
              "</style>\n",
              "<table border=\"1\" class=\"dataframe\">\n",
              "  <thead>\n",
              "    <tr style=\"text-align: right;\">\n",
              "      <th></th>\n",
              "      <th>count</th>\n",
              "      <th>mean</th>\n",
              "      <th>median</th>\n",
              "      <th>max</th>\n",
              "      <th>min</th>\n",
              "    </tr>\n",
              "    <tr>\n",
              "      <th>Barrio</th>\n",
              "      <th></th>\n",
              "      <th></th>\n",
              "      <th></th>\n",
              "      <th></th>\n",
              "      <th></th>\n",
              "    </tr>\n",
              "  </thead>\n",
              "  <tbody>\n",
              "    <tr>\n",
              "      <th>Modelia</th>\n",
              "      <td>40</td>\n",
              "      <td>4316.750000</td>\n",
              "      <td>155.5</td>\n",
              "      <td>166243</td>\n",
              "      <td>48</td>\n",
              "    </tr>\n",
              "    <tr>\n",
              "      <th>Libertador</th>\n",
              "      <td>4</td>\n",
              "      <td>642.000000</td>\n",
              "      <td>642.0</td>\n",
              "      <td>984</td>\n",
              "      <td>300</td>\n",
              "    </tr>\n",
              "    <tr>\n",
              "      <th>Bosa Piamonte</th>\n",
              "      <td>2</td>\n",
              "      <td>400.000000</td>\n",
              "      <td>400.0</td>\n",
              "      <td>400</td>\n",
              "      <td>400</td>\n",
              "    </tr>\n",
              "    <tr>\n",
              "      <th>La Soledad</th>\n",
              "      <td>8</td>\n",
              "      <td>378.625000</td>\n",
              "      <td>229.0</td>\n",
              "      <td>1350</td>\n",
              "      <td>92</td>\n",
              "    </tr>\n",
              "    <tr>\n",
              "      <th>Restrepo</th>\n",
              "      <td>10</td>\n",
              "      <td>336.500000</td>\n",
              "      <td>365.0</td>\n",
              "      <td>600</td>\n",
              "      <td>48</td>\n",
              "    </tr>\n",
              "    <tr>\n",
              "      <th>Santa Librada</th>\n",
              "      <td>2</td>\n",
              "      <td>328.000000</td>\n",
              "      <td>328.0</td>\n",
              "      <td>340</td>\n",
              "      <td>316</td>\n",
              "    </tr>\n",
              "    <tr>\n",
              "      <th>Las Ferias</th>\n",
              "      <td>2</td>\n",
              "      <td>320.000000</td>\n",
              "      <td>320.0</td>\n",
              "      <td>320</td>\n",
              "      <td>320</td>\n",
              "    </tr>\n",
              "    <tr>\n",
              "      <th>Santa Ana</th>\n",
              "      <td>8</td>\n",
              "      <td>309.375000</td>\n",
              "      <td>245.0</td>\n",
              "      <td>674</td>\n",
              "      <td>108</td>\n",
              "    </tr>\n",
              "    <tr>\n",
              "      <th>Veraguas</th>\n",
              "      <td>6</td>\n",
              "      <td>302.666667</td>\n",
              "      <td>162.0</td>\n",
              "      <td>1200</td>\n",
              "      <td>59</td>\n",
              "    </tr>\n",
              "    <tr>\n",
              "      <th>Bellavista Occidental</th>\n",
              "      <td>5</td>\n",
              "      <td>286.200000</td>\n",
              "      <td>173.0</td>\n",
              "      <td>456</td>\n",
              "      <td>173</td>\n",
              "    </tr>\n",
              "  </tbody>\n",
              "</table>\n",
              "</div>\n",
              "      <button class=\"colab-df-convert\" onclick=\"convertToInteractive('df-d265b462-eec6-4bde-8abc-3dcaa873fac9')\"\n",
              "              title=\"Convert this dataframe to an interactive table.\"\n",
              "              style=\"display:none;\">\n",
              "        \n",
              "  <svg xmlns=\"http://www.w3.org/2000/svg\" height=\"24px\"viewBox=\"0 0 24 24\"\n",
              "       width=\"24px\">\n",
              "    <path d=\"M0 0h24v24H0V0z\" fill=\"none\"/>\n",
              "    <path d=\"M18.56 5.44l.94 2.06.94-2.06 2.06-.94-2.06-.94-.94-2.06-.94 2.06-2.06.94zm-11 1L8.5 8.5l.94-2.06 2.06-.94-2.06-.94L8.5 2.5l-.94 2.06-2.06.94zm10 10l.94 2.06.94-2.06 2.06-.94-2.06-.94-.94-2.06-.94 2.06-2.06.94z\"/><path d=\"M17.41 7.96l-1.37-1.37c-.4-.4-.92-.59-1.43-.59-.52 0-1.04.2-1.43.59L10.3 9.45l-7.72 7.72c-.78.78-.78 2.05 0 2.83L4 21.41c.39.39.9.59 1.41.59.51 0 1.02-.2 1.41-.59l7.78-7.78 2.81-2.81c.8-.78.8-2.07 0-2.86zM5.41 20L4 18.59l7.72-7.72 1.47 1.35L5.41 20z\"/>\n",
              "  </svg>\n",
              "      </button>\n",
              "      \n",
              "  <style>\n",
              "    .colab-df-container {\n",
              "      display:flex;\n",
              "      flex-wrap:wrap;\n",
              "      gap: 12px;\n",
              "    }\n",
              "\n",
              "    .colab-df-convert {\n",
              "      background-color: #E8F0FE;\n",
              "      border: none;\n",
              "      border-radius: 50%;\n",
              "      cursor: pointer;\n",
              "      display: none;\n",
              "      fill: #1967D2;\n",
              "      height: 32px;\n",
              "      padding: 0 0 0 0;\n",
              "      width: 32px;\n",
              "    }\n",
              "\n",
              "    .colab-df-convert:hover {\n",
              "      background-color: #E2EBFA;\n",
              "      box-shadow: 0px 1px 2px rgba(60, 64, 67, 0.3), 0px 1px 3px 1px rgba(60, 64, 67, 0.15);\n",
              "      fill: #174EA6;\n",
              "    }\n",
              "\n",
              "    [theme=dark] .colab-df-convert {\n",
              "      background-color: #3B4455;\n",
              "      fill: #D2E3FC;\n",
              "    }\n",
              "\n",
              "    [theme=dark] .colab-df-convert:hover {\n",
              "      background-color: #434B5C;\n",
              "      box-shadow: 0px 1px 3px 1px rgba(0, 0, 0, 0.15);\n",
              "      filter: drop-shadow(0px 1px 2px rgba(0, 0, 0, 0.3));\n",
              "      fill: #FFFFFF;\n",
              "    }\n",
              "  </style>\n",
              "\n",
              "      <script>\n",
              "        const buttonEl =\n",
              "          document.querySelector('#df-d265b462-eec6-4bde-8abc-3dcaa873fac9 button.colab-df-convert');\n",
              "        buttonEl.style.display =\n",
              "          google.colab.kernel.accessAllowed ? 'block' : 'none';\n",
              "\n",
              "        async function convertToInteractive(key) {\n",
              "          const element = document.querySelector('#df-d265b462-eec6-4bde-8abc-3dcaa873fac9');\n",
              "          const dataTable =\n",
              "            await google.colab.kernel.invokeFunction('convertToInteractive',\n",
              "                                                     [key], {});\n",
              "          if (!dataTable) return;\n",
              "\n",
              "          const docLinkHtml = 'Like what you see? Visit the ' +\n",
              "            '<a target=\"_blank\" href=https://colab.research.google.com/notebooks/data_table.ipynb>data table notebook</a>'\n",
              "            + ' to learn more about interactive tables.';\n",
              "          element.innerHTML = '';\n",
              "          dataTable['output_type'] = 'display_data';\n",
              "          await google.colab.output.renderOutput(dataTable, element);\n",
              "          const docLink = document.createElement('div');\n",
              "          docLink.innerHTML = docLinkHtml;\n",
              "          element.appendChild(docLink);\n",
              "        }\n",
              "      </script>\n",
              "    </div>\n",
              "  </div>\n",
              "  "
            ]
          },
          "metadata": {},
          "execution_count": 95
        }
      ]
    },
    {
      "cell_type": "markdown",
      "source": [
        "Obteniendo datos estadísticos globales para la columna Área"
      ],
      "metadata": {
        "id": "ejT_hwoeXb7r"
      }
    },
    {
      "cell_type": "code",
      "source": [
        "inmuebles.Area.median()"
      ],
      "metadata": {
        "colab": {
          "base_uri": "https://localhost:8080/"
        },
        "id": "2hG_LPQOVyNr",
        "outputId": "78d9d065-ff34-426e-a16a-65d3889b7399"
      },
      "execution_count": 96,
      "outputs": [
        {
          "output_type": "execute_result",
          "data": {
            "text/plain": [
              "80.0"
            ]
          },
          "metadata": {},
          "execution_count": 96
        }
      ]
    },
    {
      "cell_type": "code",
      "source": [
        "inmuebles.Area.max()"
      ],
      "metadata": {
        "colab": {
          "base_uri": "https://localhost:8080/"
        },
        "id": "8-YnJ8SgWC2L",
        "outputId": "bca608f9-c84e-4432-bd3f-26155ad4afd2"
      },
      "execution_count": 97,
      "outputs": [
        {
          "output_type": "execute_result",
          "data": {
            "text/plain": [
              "166243"
            ]
          },
          "metadata": {},
          "execution_count": 97
        }
      ]
    },
    {
      "cell_type": "code",
      "source": [
        "inmuebles.Area.min()"
      ],
      "metadata": {
        "colab": {
          "base_uri": "https://localhost:8080/"
        },
        "id": "Y0yTq_1RWIji",
        "outputId": "64f89bf7-0024-4a65-e5f8-7bc58dc70661"
      },
      "execution_count": 98,
      "outputs": [
        {
          "output_type": "execute_result",
          "data": {
            "text/plain": [
              "2"
            ]
          },
          "metadata": {},
          "execution_count": 98
        }
      ]
    },
    {
      "cell_type": "code",
      "source": [
        "inmuebles.Area.mean()"
      ],
      "metadata": {
        "colab": {
          "base_uri": "https://localhost:8080/"
        },
        "id": "fH0kIsoYWdhy",
        "outputId": "0af7fa78-7850-4aea-ca3f-6c23bb610809"
      },
      "execution_count": 99,
      "outputs": [
        {
          "output_type": "execute_result",
          "data": {
            "text/plain": [
              "146.66470588235293"
            ]
          },
          "metadata": {},
          "execution_count": 99
        }
      ]
    },
    {
      "cell_type": "code",
      "source": [
        "inmuebles.Area.count()"
      ],
      "metadata": {
        "colab": {
          "base_uri": "https://localhost:8080/"
        },
        "id": "18BR74lpWpNT",
        "outputId": "5e1c8f79-12b9-4bc1-ff6f-e53326abedd1"
      },
      "execution_count": 100,
      "outputs": [
        {
          "output_type": "execute_result",
          "data": {
            "text/plain": [
              "9520"
            ]
          },
          "metadata": {},
          "execution_count": 100
        }
      ]
    }
  ]
}